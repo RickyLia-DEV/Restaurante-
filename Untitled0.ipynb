{
  "nbformat": 4,
  "nbformat_minor": 0,
  "metadata": {
    "colab": {
      "provenance": [],
      "authorship_tag": "ABX9TyNc/4RwYIdgo8YQJmIdEJTZ",
      "include_colab_link": true
    },
    "kernelspec": {
      "name": "python3",
      "display_name": "Python 3"
    },
    "language_info": {
      "name": "python"
    }
  },
  "cells": [
    {
      "cell_type": "markdown",
      "metadata": {
        "id": "view-in-github",
        "colab_type": "text"
      },
      "source": [
        "<a href=\"https://colab.research.google.com/github/RickyLia-DEV/Restaurante-/blob/main/Untitled0.ipynb\" target=\"_parent\"><img src=\"https://colab.research.google.com/assets/colab-badge.svg\" alt=\"Open In Colab\"/></a>"
      ]
    },
    {
      "cell_type": "code",
      "execution_count": 3,
      "metadata": {
        "colab": {
          "base_uri": "https://localhost:8080/"
        },
        "id": "gC1tPiV-kbkT",
        "outputId": "33a08d21-32bb-41f4-f3a7-4e9b915c961c"
      },
      "outputs": [
        {
          "output_type": "stream",
          "name": "stdout",
          "text": [
            "Base de datos de pacientes:\n",
            "       Nombre  Edad                       Sintomas Diagnostico  \\\n",
            "0  Paciente 1    25        Fiebre, dolor de cabeza   Orosburne   \n",
            "1  Paciente 2    40         Dolor muscular, fiebre      Dengue   \n",
            "2  Paciente 3    30        Dolor abdominal, fatiga        Sano   \n",
            "3  Paciente 4    50  Tos, dificultad para respirar    Covid-19   \n",
            "\n",
            "              Tratamiento  \n",
            "0     Analgésicos, reposo  \n",
            "1  Hidratación, monitoreo  \n",
            "2                Descanso  \n",
            "3    Aislamiento, oxígeno  \n",
            "\n",
            "Atendiendo a Paciente 1\n",
            "El paciente será atendido en el área general. Se le asigna el siguiente tratamiento: Analgésicos, reposo\n",
            "\n",
            "Atendiendo a Paciente 2\n",
            "El paciente tiene Dengue. Se le recomienda hidratación y monitoreo.\n",
            "\n",
            "Atendiendo a Paciente 3\n",
            "El paciente será atendido en el área general. Se le asigna el siguiente tratamiento: Descanso\n",
            "\n",
            "Atendiendo a Paciente 4\n",
            "El paciente tiene Covid-19. Debe ser trasladado a área de aislamiento.\n",
            "Se le asigna el siguiente tratamiento: Aislamiento, oxígeno\n",
            "\n",
            "--- Informe ---\n",
            "Cantidad de pacientes atendidos: 4\n",
            "Diagnósticos más comunes:\n",
            "Diagnostico\n",
            "Orosburne    1\n",
            "Dengue       1\n",
            "Sano         1\n",
            "Covid-19     1\n",
            "Name: count, dtype: int64\n"
          ]
        }
      ],
      "source": [
        "import pandas as pd\n",
        "\n",
        "# Crear una base de datos de pacientes\n",
        "data = {\n",
        "    'Nombre': ['Paciente 1', 'Paciente 2', 'Paciente 3', 'Paciente 4'],\n",
        "    'Edad': [25, 40, 30, 50],\n",
        "    'Sintomas': ['Fiebre, dolor de cabeza', 'Dolor muscular, fiebre', 'Dolor abdominal, fatiga', 'Tos, dificultad para respirar'],\n",
        "    'Diagnostico': ['Orosburne', 'Dengue', 'Sano', 'Covid-19'],\n",
        "    'Tratamiento': ['Analgésicos, reposo', 'Hidratación, monitoreo', 'Descanso', 'Aislamiento, oxígeno']\n",
        "}\n",
        "\n",
        "pacientes_df = pd.DataFrame(data)\n",
        "\n",
        "# Mostrar la base de datos\n",
        "print(\"Base de datos de pacientes:\")\n",
        "print(pacientes_df)\n",
        "\n",
        "# Simulación del triaje y seguimiento de pacientes\n",
        "for index, paciente in pacientes_df.iterrows():\n",
        "    print(\"\\nAtendiendo a\", paciente['Nombre'])\n",
        "    if paciente['Diagnostico'] == 'Covid-19':\n",
        "        print(\"El paciente tiene Covid-19. Debe ser trasladado a área de aislamiento.\")\n",
        "        print(\"Se le asigna el siguiente tratamiento:\", paciente['Tratamiento'])\n",
        "    elif paciente['Diagnostico'] == 'Dengue':\n",
        "        print(\"El paciente tiene Dengue. Se le recomienda hidratación y monitoreo.\")\n",
        "    else:\n",
        "        print(\"El paciente será atendido en el área general. Se le asigna el siguiente tratamiento:\", paciente['Tratamiento'])\n",
        "\n",
        "# Generar informes y estadísticas (simulado)\n",
        "print(\"\\n--- Informe ---\")\n",
        "print(\"Cantidad de pacientes atendidos:\", len(pacientes_df))\n",
        "print(\"Diagnósticos más comunes:\")\n",
        "print(pacientes_df['Diagnostico'].value_counts())"
      ]
    }
  ]
}